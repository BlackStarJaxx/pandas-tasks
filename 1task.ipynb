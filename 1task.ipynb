{
 "cells": [
  {
   "cell_type": "code",
   "execution_count": 1,
   "id": "express-empty",
   "metadata": {},
   "outputs": [],
   "source": [
    "import pandas as pd\n",
    "import numpy as np"
   ]
  },
  {
   "cell_type": "code",
   "execution_count": 2,
   "id": "informed-catalog",
   "metadata": {},
   "outputs": [
    {
     "data": {
      "text/html": [
       "<div>\n",
       "<style scoped>\n",
       "    .dataframe tbody tr th:only-of-type {\n",
       "        vertical-align: middle;\n",
       "    }\n",
       "\n",
       "    .dataframe tbody tr th {\n",
       "        vertical-align: top;\n",
       "    }\n",
       "\n",
       "    .dataframe thead th {\n",
       "        text-align: right;\n",
       "    }\n",
       "</style>\n",
       "<table border=\"1\" class=\"dataframe\">\n",
       "  <thead>\n",
       "    <tr style=\"text-align: right;\">\n",
       "      <th></th>\n",
       "      <th>age</th>\n",
       "      <th>workclass</th>\n",
       "      <th>fnlwgt</th>\n",
       "      <th>education</th>\n",
       "      <th>education-num</th>\n",
       "      <th>marital-status</th>\n",
       "      <th>occupation</th>\n",
       "      <th>relationship</th>\n",
       "      <th>race</th>\n",
       "      <th>sex</th>\n",
       "      <th>capital-gain</th>\n",
       "      <th>capital-loss</th>\n",
       "      <th>hours-per-week</th>\n",
       "      <th>native-country</th>\n",
       "      <th>salary</th>\n",
       "    </tr>\n",
       "  </thead>\n",
       "  <tbody>\n",
       "    <tr>\n",
       "      <th>0</th>\n",
       "      <td>39</td>\n",
       "      <td>State-gov</td>\n",
       "      <td>77516</td>\n",
       "      <td>Bachelors</td>\n",
       "      <td>13</td>\n",
       "      <td>Never-married</td>\n",
       "      <td>Adm-clerical</td>\n",
       "      <td>Not-in-family</td>\n",
       "      <td>White</td>\n",
       "      <td>Male</td>\n",
       "      <td>2174</td>\n",
       "      <td>0</td>\n",
       "      <td>40</td>\n",
       "      <td>United-States</td>\n",
       "      <td>&lt;=50K</td>\n",
       "    </tr>\n",
       "    <tr>\n",
       "      <th>1</th>\n",
       "      <td>50</td>\n",
       "      <td>Self-emp-not-inc</td>\n",
       "      <td>83311</td>\n",
       "      <td>Bachelors</td>\n",
       "      <td>13</td>\n",
       "      <td>Married-civ-spouse</td>\n",
       "      <td>Exec-managerial</td>\n",
       "      <td>Husband</td>\n",
       "      <td>White</td>\n",
       "      <td>Male</td>\n",
       "      <td>0</td>\n",
       "      <td>0</td>\n",
       "      <td>13</td>\n",
       "      <td>United-States</td>\n",
       "      <td>&lt;=50K</td>\n",
       "    </tr>\n",
       "    <tr>\n",
       "      <th>2</th>\n",
       "      <td>38</td>\n",
       "      <td>Private</td>\n",
       "      <td>215646</td>\n",
       "      <td>HS-grad</td>\n",
       "      <td>9</td>\n",
       "      <td>Divorced</td>\n",
       "      <td>Handlers-cleaners</td>\n",
       "      <td>Not-in-family</td>\n",
       "      <td>White</td>\n",
       "      <td>Male</td>\n",
       "      <td>0</td>\n",
       "      <td>0</td>\n",
       "      <td>40</td>\n",
       "      <td>United-States</td>\n",
       "      <td>&lt;=50K</td>\n",
       "    </tr>\n",
       "    <tr>\n",
       "      <th>3</th>\n",
       "      <td>53</td>\n",
       "      <td>Private</td>\n",
       "      <td>234721</td>\n",
       "      <td>11th</td>\n",
       "      <td>7</td>\n",
       "      <td>Married-civ-spouse</td>\n",
       "      <td>Handlers-cleaners</td>\n",
       "      <td>Husband</td>\n",
       "      <td>Black</td>\n",
       "      <td>Male</td>\n",
       "      <td>0</td>\n",
       "      <td>0</td>\n",
       "      <td>40</td>\n",
       "      <td>United-States</td>\n",
       "      <td>&lt;=50K</td>\n",
       "    </tr>\n",
       "    <tr>\n",
       "      <th>4</th>\n",
       "      <td>28</td>\n",
       "      <td>Private</td>\n",
       "      <td>338409</td>\n",
       "      <td>Bachelors</td>\n",
       "      <td>13</td>\n",
       "      <td>Married-civ-spouse</td>\n",
       "      <td>Prof-specialty</td>\n",
       "      <td>Wife</td>\n",
       "      <td>Black</td>\n",
       "      <td>Female</td>\n",
       "      <td>0</td>\n",
       "      <td>0</td>\n",
       "      <td>40</td>\n",
       "      <td>Cuba</td>\n",
       "      <td>&lt;=50K</td>\n",
       "    </tr>\n",
       "  </tbody>\n",
       "</table>\n",
       "</div>"
      ],
      "text/plain": [
       "   age         workclass  fnlwgt  education  education-num  \\\n",
       "0   39         State-gov   77516  Bachelors             13   \n",
       "1   50  Self-emp-not-inc   83311  Bachelors             13   \n",
       "2   38           Private  215646    HS-grad              9   \n",
       "3   53           Private  234721       11th              7   \n",
       "4   28           Private  338409  Bachelors             13   \n",
       "\n",
       "       marital-status         occupation   relationship   race     sex  \\\n",
       "0       Never-married       Adm-clerical  Not-in-family  White    Male   \n",
       "1  Married-civ-spouse    Exec-managerial        Husband  White    Male   \n",
       "2            Divorced  Handlers-cleaners  Not-in-family  White    Male   \n",
       "3  Married-civ-spouse  Handlers-cleaners        Husband  Black    Male   \n",
       "4  Married-civ-spouse     Prof-specialty           Wife  Black  Female   \n",
       "\n",
       "   capital-gain  capital-loss  hours-per-week native-country salary  \n",
       "0          2174             0              40  United-States  <=50K  \n",
       "1             0             0              13  United-States  <=50K  \n",
       "2             0             0              40  United-States  <=50K  \n",
       "3             0             0              40  United-States  <=50K  \n",
       "4             0             0              40           Cuba  <=50K  "
      ]
     },
     "execution_count": 2,
     "metadata": {},
     "output_type": "execute_result"
    }
   ],
   "source": [
    "df = pd.read_csv(\"adult.data.csv\")\n",
    "df.head()"
   ]
  },
  {
   "cell_type": "code",
   "execution_count": 3,
   "id": "organic-strand",
   "metadata": {},
   "outputs": [
    {
     "name": "stdout",
     "output_type": "stream",
     "text": [
      "Чоловіків - 21790. А жінок - 10771\n"
     ]
    }
   ],
   "source": [
    "#1Task\n",
    "#df.value_counts('sex')\n",
    "first = df.value_counts('sex')\n",
    "print(f'Чоловіків - {first[0]}. А жінок - {first[1]}')"
   ]
  },
  {
   "cell_type": "code",
   "execution_count": 4,
   "id": "frozen-namibia",
   "metadata": {},
   "outputs": [
    {
     "name": "stdout",
     "output_type": "stream",
     "text": [
      "Середній вік жінок - 37.0\n"
     ]
    }
   ],
   "source": [
    "#2Task\n",
    "second = df[df['sex'] == 'Female']['age'].mean().round()\n",
    "print(f'Середній вік жінок - {second}')\n"
   ]
  },
  {
   "cell_type": "code",
   "execution_count": 5,
   "id": "auburn-beginning",
   "metadata": {},
   "outputs": [
    {
     "name": "stdout",
     "output_type": "stream",
     "text": [
      "Загальна кількість людей у всіх країнах 32561\n",
      "Загальна кількість німців 137\n",
      "Загальна кількість німців 32424\n"
     ]
    }
   ],
   "source": [
    "#3Task\n",
    "all_countries = df['native-country'].count()\n",
    "third = df[df['native-country'] == 'Germany']['native-country'].count()\n",
    "percentG = all_countries-third\n",
    "print(f'Загальна кількість людей у всіх країнах {all_countries}')\n",
    "print(f'Загальна кількість німців {third}')\n",
    "print(f'Загальна кількість німців {percentG}')"
   ]
  },
  {
   "cell_type": "code",
   "execution_count": 6,
   "id": "gorgeous-purpose",
   "metadata": {},
   "outputs": [
    {
     "name": "stdout",
     "output_type": "stream",
     "text": [
      "Середній вік тих хто получає більше 50к: 44.0.\n",
      "Середній вік тих хто получає менше 50к: 37.0.\n",
      "Їх середньо-квадратичні відхилення відповідно: 11.0 та 14.0\n"
     ]
    }
   ],
   "source": [
    "#4-5Task\n",
    "\n",
    "salary_more = df[df['salary'] == '>50K']['age'].mean().round()\n",
    "salary_more_std = df[df['salary'] == '>50K']['age'].std().round()\n",
    "salary_less = df[df['salary'] == '<=50K']['age'].mean().round()\n",
    "salary_less_std = df[df['salary'] == '<=50K']['age'].std().round()\n",
    "\n",
    "\n",
    "print(f'Середній вік тих хто получає більше 50к: {salary_more}.\\n'\n",
    "        f'Середній вік тих хто получає менше 50к: {salary_less}.\\n'\n",
    "        f'Їх середньо-квадратичні відхилення відповідно: {salary_more_std} та {salary_less_std}')\n"
   ]
  },
  {
   "cell_type": "code",
   "execution_count": 7,
   "id": "requested-encyclopedia",
   "metadata": {},
   "outputs": [
    {
     "name": "stdout",
     "output_type": "stream",
     "text": [
      "False\n"
     ]
    }
   ],
   "source": [
    "#6Task\n",
    "\n",
    "education = ['Bachelors', 'Prof-school', 'Assoc-acdm', 'Assoc-voc', 'Masters', 'Doctorate']\n",
    "\n",
    "salary = df[df['salary'] == '>50K']['salary'].count()\n",
    "poor = df.loc[df['education'].isin(education), 'salary'][df['salary'] == '>50K'].count()\n",
    "if (salary - poor) > 0:\n",
    "    print('False')\n",
    "else:\n",
    "    print('True')\n",
    "\n"
   ]
  },
  {
   "cell_type": "code",
   "execution_count": 40,
   "id": "handmade-butter",
   "metadata": {},
   "outputs": [
    {
     "name": "stdout",
     "output_type": "stream",
     "text": [
      "       age     \n",
      "      amin amax\n",
      "race           \n",
      "False   17   90\n",
      "True    17   82\n",
      "____________________________________________________________________________\n",
      "      sex                      race                   \n",
      "    count unique     top freq count unique    top freq\n",
      "age                                                   \n",
      "17    395      2    Male  209   395      5  White  349\n",
      "18    550      2    Male  282   550      5  White  483\n",
      "19    712      2  Female  356   712      5  White  630\n",
      "20    753      2    Male  390   753      5  White  653\n",
      "21    720      2    Male  391   720      5  White  627\n",
      "..    ...    ...     ...  ...   ...    ...    ...  ...\n",
      "85      3      2    Male    2     3      1  White    3\n",
      "86      1      1  Female    1     1      1  White    1\n",
      "87      1      1    Male    1     1      1  White    1\n",
      "88      3      2    Male    2     3      1  White    3\n",
      "90     43      2    Male   29    43      3  White   34\n",
      "\n",
      "[73 rows x 8 columns]\n"
     ]
    }
   ],
   "source": [
    "#7Task\n",
    "\n",
    "race = ['sex', 'race']\n",
    "age = ['age']\n",
    "amer_race = df['race'] == 'Amer-Indian-Eskimo'\n",
    "\n",
    "stat = df.groupby(['age'])[race].describe()\n",
    "race_stat = df.groupby([amer_race])[age].agg([np.min, np.max])\n",
    "print(race_stat)\n",
    "print(\"____________________________________________________________________________\")\n",
    "print(stat)"
   ]
  },
  {
   "cell_type": "code",
   "execution_count": 111,
   "id": "convinced-century",
   "metadata": {},
   "outputs": [
    {
     "name": "stdout",
     "output_type": "stream",
     "text": [
      "Зарплата більше 50К у жонатих == 6736 осіб нещасних.\n",
      "Зарплата більше 50К у не жонатих == 954 дуже щасливих осіб.\n",
      "На одного не жонатого дуже щасливого чоловіка у якого дохід більше 50k, припадає 7.0 таких же самих лише не щасливих жонатих чоловічків.\n"
     ]
    }
   ],
   "source": [
    "#8Task\n",
    "#______#\n",
    "status_maried = ['Married-civ-spouse', 'Married-spouse-absent', 'Married-AF-spouse']\n",
    "not_maried = ['Never-married', 'Divorced']\n",
    "#______#\n",
    "# status_all = df['marital-status']\n",
    "status_salary = df['salary'].count()\n",
    "#______#\n",
    "status_not_maried = df.loc[df['marital-status'].isin(not_maried), 'salary'][df['salary'] == '>50K'].count()\n",
    "status_maried = df.loc[df['marital-status'].isin(status_maried), 'salary'][df['salary'] == '>50K'].count()\n",
    "percent = (status_maried / status_not_maried ).round()\n",
    "#______#\n",
    "print(f'Зарплата більше 50К у жонатих == {status_maried} осіб нещасних.\\n'\n",
    "      f'Зарплата більше 50К у не жонатих == {status_not_maried} дуже щасливих осіб.\\n'\n",
    "      f'На одного не жонатого дуже щасливого чоловіка у якого дохід більше 50k, припадає {percent} таких же самих лише не щасливих жонатих чоловічків.'\n",
    "     )\n",
    "\n"
   ]
  },
  {
   "cell_type": "code",
   "execution_count": 337,
   "id": "statewide-columbus",
   "metadata": {},
   "outputs": [
    {
     "name": "stdout",
     "output_type": "stream",
     "text": [
      "Максимальних кількість робочих годин в тиждень == 99.\n",
      "Кількість працючих людей 99 годин/тиждень  == 85 .\n",
      "При таких умовах кількість людей 25, у яких зарплата більше 50к.\n",
      "При таких умовах кількість людей 60, у яких зарплата менше 50к.\n",
      "\n"
     ]
    }
   ],
   "source": [
    "#9Task\n",
    "\n",
    "hor1 = df.loc[df['hours-per-week'] == 99].count().max()\n",
    "hor = df.loc[df['hours-per-week'] == 99, 'salary'][df['salary'] == '>50K'].count()\n",
    "hor2 = df.loc[df['hours-per-week'] == 99, 'salary'][df['salary'] == '<=50K'].count()\n",
    "\n",
    "print(f'Максимальних кількість робочих годин в тиждень == 99.\\n'\n",
    "      f'Кількість працючих людей 99 годин/тиждень  == {hor1}.\\n'\n",
    "      f'При таких умовах кількість людей {hor}, у яких зарплата більше 50к.\\n'\n",
    "      f'При таких умовах кількість людей {hor2}, у яких зарплата менше 50к.\\n')"
   ]
  },
  {
   "cell_type": "code",
   "execution_count": null,
   "id": "comparative-diameter",
   "metadata": {},
   "outputs": [],
   "source": []
  },
  {
   "cell_type": "code",
   "execution_count": 437,
   "id": "flexible-literacy",
   "metadata": {},
   "outputs": [
    {
     "name": "stdout",
     "output_type": "stream",
     "text": [
      "                              hours-per-week        age\n",
      "native-country salary sex                              \n",
      "?              <=50K  Female       37.671233  36.465753\n",
      "                      Male         41.415808  37.048110\n",
      "               >50K   Female       35.764706  43.764706\n",
      "                      Male         46.837209  44.403101\n",
      "Cambodia       <=50K  Female       40.000000  25.000000\n",
      "...                                      ...        ...\n",
      "Vietnam        >50K   Male         39.000000  33.500000\n",
      "Yugoslavia     <=50K  Female       30.000000  40.500000\n",
      "                      Male         44.500000  37.375000\n",
      "               >50K   Female       40.000000  40.000000\n",
      "                      Male         51.400000  40.200000\n",
      "\n",
      "[155 rows x 2 columns]\n"
     ]
    }
   ],
   "source": [
    "#10Task\n",
    "sort = ['hours-per-week','age']\n",
    "stat = df.groupby(['native-country','salary','sex'])[sort].mean()\n",
    "\n",
    "\n",
    "#print(mean)\n",
    "print(stat)"
   ]
  },
  {
   "cell_type": "code",
   "execution_count": null,
   "id": "stunning-butter",
   "metadata": {},
   "outputs": [],
   "source": []
  }
 ],
 "metadata": {
  "kernelspec": {
   "display_name": "Python 3",
   "language": "python",
   "name": "python3"
  },
  "language_info": {
   "codemirror_mode": {
    "name": "ipython",
    "version": 3
   },
   "file_extension": ".py",
   "mimetype": "text/x-python",
   "name": "python",
   "nbconvert_exporter": "python",
   "pygments_lexer": "ipython3",
   "version": "3.9.2"
  }
 },
 "nbformat": 4,
 "nbformat_minor": 5
}